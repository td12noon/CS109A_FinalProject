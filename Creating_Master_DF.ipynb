{
 "cells": [
  {
   "cell_type": "markdown",
   "metadata": {},
   "source": [
    "**CS109A Final Project**<br/>\n",
    "**Group 12**<br/>\n",
    "**EDA Page**<br/>"
   ]
  },
  {
   "cell_type": "markdown",
   "metadata": {},
   "source": [
    "Import libraries:"
   ]
  },
  {
   "cell_type": "code",
   "execution_count": 1,
   "metadata": {},
   "outputs": [
    {
     "name": "stderr",
     "output_type": "stream",
     "text": [
      "/Users/anantpai/anaconda/lib/python3.6/site-packages/statsmodels/compat/pandas.py:56: FutureWarning: The pandas.core.datetools module is deprecated and will be removed in a future version. Please use the pandas.tseries module instead.\n",
      "  from pandas.core import datetools\n"
     ]
    }
   ],
   "source": [
    "import numpy as np\n",
    "import pandas as pd\n",
    "import matplotlib\n",
    "import matplotlib.pyplot as plt\n",
    "import statsmodels.api as sm\n",
    "from statsmodels.api import OLS\n",
    "import sklearn.metrics as metrics\n",
    "from sklearn.model_selection import cross_val_score\n",
    "from sklearn import tree\n",
    "from sklearn.tree import DecisionTreeClassifier\n",
    "from sklearn.ensemble import RandomForestClassifier\n",
    "from sklearn.ensemble import AdaBoostClassifier\n",
    "from sklearn.linear_model import LogisticRegressionCV\n",
    "import warnings\n",
    "warnings.filterwarnings('ignore')\n",
    "%matplotlib inline\n",
    "\n",
    "import seaborn as sns; sns.set(color_codes=True)\n",
    "sns.set(style=\"whitegrid\")\n"
   ]
  },
  {
   "cell_type": "code",
   "execution_count": 2,
   "metadata": {
    "collapsed": true
   },
   "outputs": [],
   "source": [
    "# Load in data\n",
    "df = pd.read_csv('total_info.csv', encoding = 'latin-1')"
   ]
  },
  {
   "cell_type": "code",
   "execution_count": 3,
   "metadata": {
    "collapsed": true
   },
   "outputs": [],
   "source": [
    "# Clean Variables\n",
    "del df['Unnamed: 0']\n",
    "df['artist_popularity'] = pd.to_numeric(df['artist_popularity'], errors = 'coerce')\n",
    "df['artist_followers'] = pd.to_numeric(df['artist_followers'], errors = 'coerce')"
   ]
  },
  {
   "cell_type": "code",
   "execution_count": 4,
   "metadata": {
    "collapsed": true
   },
   "outputs": [],
   "source": [
    "# Create pop indicator variable array\n",
    "pop_ind = []\n",
    "rap_ind = []\n",
    "rock_ind = []\n",
    "hip_hop_ind = []\n",
    "country_ind = []\n",
    "metal_ind = []\n",
    "indie_folk_ind = []\n",
    "rnb_ind = []\n",
    "edm_ind = []\n",
    "classical_ind = []\n",
    "jazz_ind = []\n",
    "\n",
    "for idx, row in enumerate(df['artist_genres'].values):\n",
    "    if 'pop' in row:\n",
    "        pop_ind.append(1)\n",
    "    else:\n",
    "        pop_ind.append(0)\n",
    "        \n",
    "    if 'rap' in row or 'hip' in row:\n",
    "        rap_ind.append(1)\n",
    "    else:\n",
    "        rap_ind.append(0)\n",
    "        \n",
    "    if 'rock' in row:\n",
    "        rock_ind.append(1)\n",
    "    else:\n",
    "        rock_ind.append(0)\n",
    "    \n",
    "    if 'hip' in row or 'hop' in row:\n",
    "        hip_hop_ind.append(1)\n",
    "    else:\n",
    "        hip_hop_ind.append(0)\n",
    "    \n",
    "    if 'country' in row:\n",
    "        country_ind.append(1)\n",
    "    else:\n",
    "        country_ind.append(0)\n",
    "        \n",
    "    if 'metal' in row:\n",
    "        metal_ind.append(1)\n",
    "    else:\n",
    "        metal_ind.append(0)\n",
    "        \n",
    "    if 'indie' in row or 'folk' in row:\n",
    "        indie_folk_ind.append(1)\n",
    "    else:\n",
    "        indie_folk_ind.append(0)\n",
    "        \n",
    "    if 'r&b' in row:\n",
    "        rnb_ind.append(1)\n",
    "    else:\n",
    "        rnb_ind.append(0)\n",
    "        \n",
    "    if 'edm' in row:\n",
    "        edm_ind.append(1)\n",
    "    else:\n",
    "        edm_ind.append(0)\n",
    "    \n",
    "    if 'classical' in row:\n",
    "        classical_ind.append(1)\n",
    "    else:\n",
    "        classical_ind.append(0)\n",
    "    \n",
    "    if 'jazz' in row:\n",
    "        jazz_ind.append(1)\n",
    "    else:\n",
    "        jazz_ind.append(0)\n",
    "    \n",
    "        \n",
    "# Append array to dataframe\n",
    "df['pop_ind'] = pop_ind\n",
    "df['rap_ind'] = rap_ind\n",
    "df['rock_ind'] = rock_ind\n",
    "df['hip_hop_ind'] = hip_hop_ind\n",
    "df['country_ind'] = country_ind\n",
    "df['metal_ind'] = metal_ind\n",
    "df['indie_folk_ind'] = indie_folk_ind\n",
    "df['rnb_ind'] = rnb_ind\n",
    "df['edm_ind'] = edm_ind\n",
    "df['classical_ind'] = classical_ind\n",
    "df['jazz_ind'] = jazz_ind"
   ]
  },
  {
   "cell_type": "code",
   "execution_count": 5,
   "metadata": {
    "scrolled": false
   },
   "outputs": [
    {
     "data": {
      "text/html": [
       "<div>\n",
       "<style>\n",
       "    .dataframe thead tr:only-child th {\n",
       "        text-align: right;\n",
       "    }\n",
       "\n",
       "    .dataframe thead th {\n",
       "        text-align: left;\n",
       "    }\n",
       "\n",
       "    .dataframe tbody tr th {\n",
       "        vertical-align: top;\n",
       "    }\n",
       "</style>\n",
       "<table border=\"1\" class=\"dataframe\">\n",
       "  <thead>\n",
       "    <tr style=\"text-align: right;\">\n",
       "      <th></th>\n",
       "      <th>playlist_id</th>\n",
       "      <th>playlist_name</th>\n",
       "      <th>followers</th>\n",
       "      <th>song_name</th>\n",
       "      <th>number_of_artists</th>\n",
       "      <th>artist_name</th>\n",
       "      <th>artist_id</th>\n",
       "      <th>popularity</th>\n",
       "      <th>track_number</th>\n",
       "      <th>explicit</th>\n",
       "      <th>...</th>\n",
       "      <th>rock_ind</th>\n",
       "      <th>hip_hop_ind</th>\n",
       "      <th>country_ind</th>\n",
       "      <th>metal_ind</th>\n",
       "      <th>indie_folk_ind</th>\n",
       "      <th>rnb_ind</th>\n",
       "      <th>edm_ind</th>\n",
       "      <th>classical_ind</th>\n",
       "      <th>jazz_ind</th>\n",
       "      <th>popular_artist_ind</th>\n",
       "    </tr>\n",
       "  </thead>\n",
       "  <tbody>\n",
       "    <tr>\n",
       "      <th>0</th>\n",
       "      <td>37i9dQZF1DXcBWIGoYBM5M</td>\n",
       "      <td>Today's Top Hits</td>\n",
       "      <td>18123888.0</td>\n",
       "      <td>Wolves</td>\n",
       "      <td>2</td>\n",
       "      <td>Selena Gomez</td>\n",
       "      <td>0C8ZW7ezQVs4URX5aX7Kqx</td>\n",
       "      <td>88</td>\n",
       "      <td>1</td>\n",
       "      <td>0</td>\n",
       "      <td>...</td>\n",
       "      <td>0</td>\n",
       "      <td>0</td>\n",
       "      <td>0</td>\n",
       "      <td>0</td>\n",
       "      <td>0</td>\n",
       "      <td>0</td>\n",
       "      <td>0</td>\n",
       "      <td>0</td>\n",
       "      <td>0</td>\n",
       "      <td>1</td>\n",
       "    </tr>\n",
       "    <tr>\n",
       "      <th>1</th>\n",
       "      <td>37i9dQZF1DWXDAhqlN7e6W</td>\n",
       "      <td>This Is: Max Martin</td>\n",
       "      <td>15685.0</td>\n",
       "      <td>Hands To Myself</td>\n",
       "      <td>1</td>\n",
       "      <td>Selena Gomez</td>\n",
       "      <td>0C8ZW7ezQVs4URX5aX7Kqx</td>\n",
       "      <td>69</td>\n",
       "      <td>3</td>\n",
       "      <td>0</td>\n",
       "      <td>...</td>\n",
       "      <td>0</td>\n",
       "      <td>0</td>\n",
       "      <td>0</td>\n",
       "      <td>0</td>\n",
       "      <td>0</td>\n",
       "      <td>0</td>\n",
       "      <td>0</td>\n",
       "      <td>0</td>\n",
       "      <td>0</td>\n",
       "      <td>1</td>\n",
       "    </tr>\n",
       "    <tr>\n",
       "      <th>2</th>\n",
       "      <td>37i9dQZF1DX7Q7o98uPeg1</td>\n",
       "      <td>Funkst</td>\n",
       "      <td>397098.0</td>\n",
       "      <td>Good For You - KASBO Remix</td>\n",
       "      <td>3</td>\n",
       "      <td>Selena Gomez</td>\n",
       "      <td>0C8ZW7ezQVs4URX5aX7Kqx</td>\n",
       "      <td>35</td>\n",
       "      <td>3</td>\n",
       "      <td>0</td>\n",
       "      <td>...</td>\n",
       "      <td>0</td>\n",
       "      <td>0</td>\n",
       "      <td>0</td>\n",
       "      <td>0</td>\n",
       "      <td>0</td>\n",
       "      <td>0</td>\n",
       "      <td>0</td>\n",
       "      <td>0</td>\n",
       "      <td>0</td>\n",
       "      <td>1</td>\n",
       "    </tr>\n",
       "    <tr>\n",
       "      <th>3</th>\n",
       "      <td>37i9dQZF1DX3LyU0mhfqgP</td>\n",
       "      <td>Out Now</td>\n",
       "      <td>439685.0</td>\n",
       "      <td>Wolves</td>\n",
       "      <td>2</td>\n",
       "      <td>Selena Gomez</td>\n",
       "      <td>0C8ZW7ezQVs4URX5aX7Kqx</td>\n",
       "      <td>88</td>\n",
       "      <td>1</td>\n",
       "      <td>0</td>\n",
       "      <td>...</td>\n",
       "      <td>0</td>\n",
       "      <td>0</td>\n",
       "      <td>0</td>\n",
       "      <td>0</td>\n",
       "      <td>0</td>\n",
       "      <td>0</td>\n",
       "      <td>0</td>\n",
       "      <td>0</td>\n",
       "      <td>0</td>\n",
       "      <td>1</td>\n",
       "    </tr>\n",
       "    <tr>\n",
       "      <th>4</th>\n",
       "      <td>37i9dQZF1DX35oM5SPECmN</td>\n",
       "      <td>HIIT Workout</td>\n",
       "      <td>712771.0</td>\n",
       "      <td>Come &amp; Get It</td>\n",
       "      <td>1</td>\n",
       "      <td>Selena Gomez</td>\n",
       "      <td>0C8ZW7ezQVs4URX5aX7Kqx</td>\n",
       "      <td>56</td>\n",
       "      <td>1</td>\n",
       "      <td>0</td>\n",
       "      <td>...</td>\n",
       "      <td>0</td>\n",
       "      <td>0</td>\n",
       "      <td>0</td>\n",
       "      <td>0</td>\n",
       "      <td>0</td>\n",
       "      <td>0</td>\n",
       "      <td>0</td>\n",
       "      <td>0</td>\n",
       "      <td>0</td>\n",
       "      <td>1</td>\n",
       "    </tr>\n",
       "  </tbody>\n",
       "</table>\n",
       "<p>5 rows × 28 columns</p>\n",
       "</div>"
      ],
      "text/plain": [
       "              playlist_id        playlist_name   followers  \\\n",
       "0  37i9dQZF1DXcBWIGoYBM5M     Today's Top Hits  18123888.0   \n",
       "1  37i9dQZF1DWXDAhqlN7e6W  This Is: Max Martin     15685.0   \n",
       "2  37i9dQZF1DX7Q7o98uPeg1               Funkst    397098.0   \n",
       "3  37i9dQZF1DX3LyU0mhfqgP              Out Now    439685.0   \n",
       "4  37i9dQZF1DX35oM5SPECmN         HIIT Workout    712771.0   \n",
       "\n",
       "                    song_name  number_of_artists   artist_name  \\\n",
       "0                      Wolves                  2  Selena Gomez   \n",
       "1             Hands To Myself                  1  Selena Gomez   \n",
       "2  Good For You - KASBO Remix                  3  Selena Gomez   \n",
       "3                      Wolves                  2  Selena Gomez   \n",
       "4               Come & Get It                  1  Selena Gomez   \n",
       "\n",
       "                artist_id  popularity  track_number  explicit  \\\n",
       "0  0C8ZW7ezQVs4URX5aX7Kqx          88             1         0   \n",
       "1  0C8ZW7ezQVs4URX5aX7Kqx          69             3         0   \n",
       "2  0C8ZW7ezQVs4URX5aX7Kqx          35             3         0   \n",
       "3  0C8ZW7ezQVs4URX5aX7Kqx          88             1         0   \n",
       "4  0C8ZW7ezQVs4URX5aX7Kqx          56             1         0   \n",
       "\n",
       "          ...          rock_ind hip_hop_ind  country_ind  metal_ind  \\\n",
       "0         ...                 0           0            0          0   \n",
       "1         ...                 0           0            0          0   \n",
       "2         ...                 0           0            0          0   \n",
       "3         ...                 0           0            0          0   \n",
       "4         ...                 0           0            0          0   \n",
       "\n",
       "   indie_folk_ind rnb_ind  edm_ind  classical_ind  jazz_ind  \\\n",
       "0               0       0        0              0         0   \n",
       "1               0       0        0              0         0   \n",
       "2               0       0        0              0         0   \n",
       "3               0       0        0              0         0   \n",
       "4               0       0        0              0         0   \n",
       "\n",
       "   popular_artist_ind  \n",
       "0                   1  \n",
       "1                   1  \n",
       "2                   1  \n",
       "3                   1  \n",
       "4                   1  \n",
       "\n",
       "[5 rows x 28 columns]"
      ]
     },
     "execution_count": 5,
     "metadata": {},
     "output_type": "execute_result"
    }
   ],
   "source": [
    "# Artist Popularity 75% is a 75, use for indicator \n",
    "df['artist_popularity'].describe()\n",
    "df['popular_artist_ind'] = (df['artist_popularity'] >= 75)*1\n",
    "df.head()"
   ]
  },
  {
   "cell_type": "code",
   "execution_count": 6,
   "metadata": {
    "collapsed": true
   },
   "outputs": [],
   "source": [
    "international = []\n",
    "genre_or_not = []\n",
    "\n",
    "for idx, row in enumerate(df['available_markets'].values):\n",
    "    if len(str(row)) > 3:\n",
    "        international.append(1)\n",
    "    else:\n",
    "        international.append(0)\n",
    "        \n",
    "df['international_or_not'] = international\n",
    "df['genre_or_not'] = genre_or_not"
   ]
  },
  {
   "cell_type": "code",
   "execution_count": null,
   "metadata": {
    "collapsed": true
   },
   "outputs": [],
   "source": []
  },
  {
   "cell_type": "code",
   "execution_count": 7,
   "metadata": {},
   "outputs": [
    {
     "data": {
      "text/plain": [
       "29"
      ]
     },
     "execution_count": 7,
     "metadata": {},
     "output_type": "execute_result"
    }
   ],
   "source": [
    "columns = ['playlist','name','followers','num_songs','av_song_pop','pct_explicit','avg_dur','av_artist_followers', 'pop_pct', 'rap_pct', 'rock_pct', 'hip_hop_pct', 'country_pct','metal_pct','indie_folk_pct','rnb_pct','edm_pct','classical_pct','jazz_pct','popular_artist_pct', 'top_3_artist_av_pop', 'top_artist_pop', 'top_3_song_avg_pop', 'top_song_pop', 'top_3_artist_followers', 'top_artist_followers', 'percent_international', 'diff_song_pop', 'diff_artist_pop']\n",
    "len(columns)"
   ]
  },
  {
   "cell_type": "code",
   "execution_count": 9,
   "metadata": {},
   "outputs": [],
   "source": [
    "# Sum Up the 100 tracks of info (or less) for each playlist\n",
    "unique_plists = df['playlist_id'].unique()\n",
    "columns = ['playlist','name','followers','num_songs','av_song_pop','pct_explicit','avg_dur','av_artist_followers', 'pop_pct', 'rap_pct', 'rock_pct', 'hip_hop_pct', 'country_pct','metal_pct','indie_folk_pct','rnb_pct','edm_pct','classical_pct','jazz_pct','popular_artist_pct', 'top_3_artist_av_pop', 'top_artist_pop', 'top_3_song_avg_pop', 'top_song_pop', 'top_3_artist_followers', 'top_artist_followers', 'percent_international', 'diff_song_pop', 'diff_artist_pop']\n",
    "eda_frame = pd.DataFrame(index=range(0,len(unique_plists)), columns=columns)\n",
    "for idx,plist in enumerate(unique_plists):\n",
    "    eda_frame.loc[idx]['playlist'] = plist\n",
    "    eda_frame.loc[idx]['name'] = df.loc[df['playlist_id'] == plist]['playlist_name'].iloc[0]\n",
    "    eda_frame.loc[idx]['followers'] = np.mean(df.loc[df['playlist_id'] == plist]['followers'])\n",
    "    eda_frame.loc[idx]['num_songs'] = len(df.loc[df['playlist_id'] == plist])\n",
    "    eda_frame.loc[idx]['av_song_pop'] = np.mean(df.loc[df['playlist_id'] == plist]['popularity'])\n",
    "    eda_frame.loc[idx]['pct_explicit'] = np.mean(df.loc[df['playlist_id'] == plist]['explicit'])\n",
    "    eda_frame.loc[idx]['avg_dur'] = np.mean(df.loc[df['playlist_id'] == plist]['duration_ms'])\n",
    "    eda_frame.loc[idx]['av_artist_followers'] = np.mean(df.loc[df['playlist_id'] == plist]['artist_followers'])\n",
    "    eda_frame.loc[idx]['pop_pct'] = np.mean(df.loc[df['playlist_id'] == plist]['pop_ind'])\n",
    "    eda_frame.loc[idx]['rap_pct'] = np.mean(df.loc[df['playlist_id'] == plist]['rap_ind'])\n",
    "    eda_frame.loc[idx]['rock_pct'] = np.mean(df.loc[df['playlist_id'] == plist]['rock_ind'])\n",
    "    eda_frame.loc[idx]['hip_hop_pct'] = np.mean(df.loc[df['playlist_id'] == plist]['hip_hop_ind'])\n",
    "    eda_frame.loc[idx]['country_pct'] = np.mean(df.loc[df['playlist_id'] == plist]['country_ind'])\n",
    "    eda_frame.loc[idx]['metal_pct'] = np.mean(df.loc[df['playlist_id'] == plist]['metal_ind'])\n",
    "    eda_frame.loc[idx]['indie_folk_pct'] = np.mean(df.loc[df['playlist_id'] == plist]['indie_folk_ind'])\n",
    "    eda_frame.loc[idx]['rnb_pct'] = np.mean(df.loc[df['playlist_id'] == plist]['rnb_ind'])\n",
    "    eda_frame.loc[idx]['edm_pct'] = np.mean(df.loc[df['playlist_id'] == plist]['edm_ind'])\n",
    "    eda_frame.loc[idx]['classical_pct'] = np.mean(df.loc[df['playlist_id'] == plist]['classical_ind'])\n",
    "    eda_frame.loc[idx]['jazz_pct'] = np.mean(df.loc[df['playlist_id'] == plist]['jazz_ind'])\n",
    "    eda_frame.loc[idx]['popular_artist_pct'] = np.mean(df.loc[df['playlist_id'] == plist]['popular_artist_ind'])\n",
    "    artist_pop_arr = df.loc[df['playlist_id'] == plist]['artist_popularity'].values\n",
    "    top_artist_pop_arr = np.partition(-artist_pop_arr, 3)\n",
    "    eda_frame.loc[idx]['top_3_artist_av_pop'] = np.mean(-top_artist_pop_arr[:3])\n",
    "    eda_frame.loc[idx]['top_artist_pop'] = max(artist_pop_arr)\n",
    "    song_pop_arr = df.loc[df['playlist_id'] == plist]['popularity'].values\n",
    "    top_song_pop_arr = np.partition(-song_pop_arr, 3)\n",
    "    eda_frame.loc[idx]['top_3_song_avg_pop'] = np.mean(-top_song_pop_arr[:3])\n",
    "    eda_frame.loc[idx]['top_song_pop'] = max(song_pop_arr)\n",
    "    followers_arr = df.loc[df['playlist_id'] == plist]['artist_followers'].values\n",
    "    top_followers_arr = np.partition(-followers_arr, 3)\n",
    "    eda_frame.loc[idx]['top_3_artist_followers'] = np.mean(-top_followers_arr[:3])\n",
    "    eda_frame.loc[idx]['top_artist_followers'] = max(followers_arr)\n",
    "    eda_frame.loc[idx]['percent_international'] = np.mean(df.loc[df['playlist_id'] == plist]['international_or_not'])\n",
    "    eda_frame.loc[idx]['diff_song_pop'] = max(df.loc[df['playlist_id'] == plist]['popularity']) - min(df.loc[df['playlist_id'] == plist]['popularity'])\n",
    "    eda_frame.loc[idx]['diff_artist_pop'] = max(df.loc[df['playlist_id'] == plist]['artist_popularity']) - min(df.loc[df['playlist_id'] == plist]['artist_popularity'])"
   ]
  },
  {
   "cell_type": "code",
   "execution_count": 14,
   "metadata": {},
   "outputs": [
    {
     "data": {
      "text/plain": [
       "32"
      ]
     },
     "execution_count": 14,
     "metadata": {},
     "output_type": "execute_result"
    }
   ],
   "source": [
    "len(eda_frame.columns)"
   ]
  },
  {
   "cell_type": "code",
   "execution_count": 12,
   "metadata": {
    "collapsed": true
   },
   "outputs": [],
   "source": [
    "top_indicator = []\n",
    "this_is_indicator = []\n",
    "num_indicator = []\n",
    "\n",
    "for name in eda_frame['name']:     \n",
    "    if 'Top' in name or 'Best' in name or 'Hit' in name or 'Viral' in name or 'Hot' in name:\n",
    "        top_indicator.append(1)\n",
    "    else:\n",
    "        top_indicator.append(0)\n",
    "    if \"This Is:\" in name:\n",
    "        this_is_indicator.append(1)\n",
    "    else:\n",
    "        this_is_indicator.append(0)\n",
    "    if any(c.isdigit() for c in name):\n",
    "        num_indicator.append(1)\n",
    "    else:\n",
    "        num_indicator.append(0)\n",
    "        \n",
    "eda_frame['top_or_not'] = top_indicator\n",
    "eda_frame['this_or_not'] = this_is_indicator\n",
    "eda_frame['number_or_not'] = num_indicator"
   ]
  },
  {
   "cell_type": "code",
   "execution_count": 13,
   "metadata": {},
   "outputs": [
    {
     "data": {
      "text/plain": [
       "32"
      ]
     },
     "execution_count": 13,
     "metadata": {},
     "output_type": "execute_result"
    }
   ],
   "source": [
    "len(eda_frame.columns)"
   ]
  },
  {
   "cell_type": "code",
   "execution_count": 15,
   "metadata": {
    "collapsed": true
   },
   "outputs": [],
   "source": [
    "# Dummies for most popular artists\n",
    "artist_counts = df.groupby('artist_name', as_index=False)['artist_popularity'].mean().sort_values('artist_popularity')\n",
    "top_artists = artist_counts[artist_counts['artist_popularity']>=93]\n",
    "artist_counts = artist_counts.fillna(0)\n",
    "\n",
    "top_artists['artist_name'] = list(top_artists['artist_name'])\n",
    "\n",
    "top_artist_dummy = pd.get_dummies(top_artists['artist_name'])\n",
    "\n",
    "df_new = pd.concat([artist_counts, top_artist_dummy], axis=1)\n",
    "df_new = df_new.drop('artist_popularity', axis =1)\n",
    "\n",
    "df_artists = pd.merge(df, df_new, on='artist_name')\n",
    "df_artists = df_artists.fillna(0)"
   ]
  },
  {
   "cell_type": "code",
   "execution_count": 16,
   "metadata": {
    "collapsed": true
   },
   "outputs": [],
   "source": [
    "artists = list(top_artists['artist_name'])\n",
    "columns = artists[:]\n",
    "columns.insert(0,'name')\n",
    "playlist_artist = pd.DataFrame(index=range(0,len(unique_plists)), columns=columns)"
   ]
  },
  {
   "cell_type": "code",
   "execution_count": 17,
   "metadata": {
    "collapsed": true
   },
   "outputs": [],
   "source": [
    "for i, val in enumerate(unique_plists):\n",
    "    playlist_artist['name'].values[i] = df_artists[df_artists['playlist_id'] == val]['playlist_name'].values[0]\n",
    "    for col in artists:\n",
    "        playlist_artist.set_value(i, col, max(df_artists.loc[df['playlist_id'] == val][col])) "
   ]
  },
  {
   "cell_type": "code",
   "execution_count": 18,
   "metadata": {
    "collapsed": true
   },
   "outputs": [],
   "source": [
    "eda_frame = eda_frame.merge(playlist_artist, on = 'name')"
   ]
  },
  {
   "cell_type": "code",
   "execution_count": 19,
   "metadata": {},
   "outputs": [
    {
     "data": {
      "text/plain": [
       "72"
      ]
     },
     "execution_count": 19,
     "metadata": {},
     "output_type": "execute_result"
    }
   ],
   "source": [
    "len(eda_frame.columns)"
   ]
  },
  {
   "cell_type": "code",
   "execution_count": 21,
   "metadata": {},
   "outputs": [],
   "source": [
    "genre_or_not = []\n",
    "\n",
    "for idx, row in enumerate(df['available_markets'].values):\n",
    "    if len(str(row)) > 3:\n",
    "        genre_or_not.append(1)\n",
    "    else:\n",
    "        genre_or_not.append(0)\n",
    "        \n",
    "df['genre_or_not'] = genre_or_not"
   ]
  },
  {
   "cell_type": "code",
   "execution_count": 22,
   "metadata": {
    "collapsed": true
   },
   "outputs": [],
   "source": [
    "columns = ['playlist','pct_w_genre']\n",
    "extra_frame = pd.DataFrame(index=range(0,len(unique_plists)), columns=columns)\n",
    "for idx,plist in enumerate(unique_plists):\n",
    "    extra_frame.loc[idx]['playlist'] = plist\n",
    "    extra_frame.loc[idx]['pct_w_genre'] = np.mean(df.loc[df['playlist_id'] == plist]['genre_or_not'])\n"
   ]
  },
  {
   "cell_type": "code",
   "execution_count": 24,
   "metadata": {
    "collapsed": true
   },
   "outputs": [],
   "source": [
    "eda_frame = eda_frame.merge(extra_frame, on = 'playlist')"
   ]
  },
  {
   "cell_type": "code",
   "execution_count": 25,
   "metadata": {
    "scrolled": true
   },
   "outputs": [
    {
     "data": {
      "text/plain": [
       "73"
      ]
     },
     "execution_count": 25,
     "metadata": {},
     "output_type": "execute_result"
    }
   ],
   "source": [
    "len(eda_frame.columns)"
   ]
  },
  {
   "cell_type": "code",
   "execution_count": 26,
   "metadata": {},
   "outputs": [
    {
     "data": {
      "text/plain": [
       "1594"
      ]
     },
     "execution_count": 26,
     "metadata": {},
     "output_type": "execute_result"
    }
   ],
   "source": [
    "len(eda_frame)"
   ]
  },
  {
   "cell_type": "markdown",
   "metadata": {},
   "source": [
    "73 predictors and 1594 observations! Great :)\n",
    "\n",
    "Now, we've put all of our predictors together. Let's go ahead and create interaction terms for the variables we may think are important"
   ]
  },
  {
   "cell_type": "code",
   "execution_count": 63,
   "metadata": {
    "collapsed": true
   },
   "outputs": [],
   "source": [
    "master_frame = eda_frame"
   ]
  },
  {
   "cell_type": "code",
   "execution_count": 64,
   "metadata": {
    "collapsed": true
   },
   "outputs": [],
   "source": [
    "# Create Interaction Terms\n",
    "artist_list = ['Demi Lovato', 'Lil Wayne','BeyoncÌÄå©', 'Selena Gomez', 'SZA', 'Marshmello', 'Coldplay','Kanye West', 'Kygo', 'Dua Lipa', 'XXXTENTACION', 'Sia','Camila Cabello', 'Migos', 'Gucci Mane', 'Imagine Dragons', 'Rihanna','Travis Scott', 'Maroon 5', 'Taylor Swift', 'The Weeknd','Ty Dolla $ign', 'Nicki Minaj', 'Daddy Yankee', 'Young Thug','Lil Uzi Vert', 'Kendrick Lamar', 'Eminem', 'Chris Brown', 'Future','Justin Bieber', 'J Balvin', 'Sam Smith', '21 Savage', 'Ozuna','Bad Bunny', 'Khalid', 'Ed Sheeran', 'Drake', 'Post Malone']\n",
    "genres = ['pop_pct', 'rap_pct', 'rock_pct', 'hip_hop_pct','country_pct', 'metal_pct', 'indie_folk_pct', 'rnb_pct', 'edm_pct','classical_pct', 'jazz_pct']\n",
    "\n",
    "for artist in artist_list:\n",
    "    for genre in genres:\n",
    "        master_frame[artist+'*'+ genre] = master_frame[artist] * master_frame[genre]"
   ]
  },
  {
   "cell_type": "code",
   "execution_count": 65,
   "metadata": {},
   "outputs": [
    {
     "data": {
      "text/plain": [
       "513"
      ]
     },
     "execution_count": 65,
     "metadata": {},
     "output_type": "execute_result"
    }
   ],
   "source": [
    "len(master_frame.columns)"
   ]
  },
  {
   "cell_type": "markdown",
   "metadata": {},
   "source": [
    "Let's go ahead and split up into train and test data. This way we can normalize/ standardize properly."
   ]
  },
  {
   "cell_type": "code",
   "execution_count": 66,
   "metadata": {},
   "outputs": [
    {
     "data": {
      "text/plain": [
       "6.2402758451707694"
      ]
     },
     "execution_count": 66,
     "metadata": {},
     "output_type": "execute_result"
    }
   ],
   "source": [
    "np.log(513.0)"
   ]
  },
  {
   "cell_type": "code",
   "execution_count": 67,
   "metadata": {
    "scrolled": true
   },
   "outputs": [],
   "source": [
    "# First, let's take the log to fix the skew of certain variables\n",
    "skewed_vars = ['followers','av_artist_followers', 'top_3_artist_followers', 'top_artist_followers']\n",
    "for var in skewed_vars:\n",
    "    master_frame[var] = np.log(master_frame[var].astype('float'))"
   ]
  },
  {
   "cell_type": "markdown",
   "metadata": {},
   "source": [
    "Since we now have values that are negative infinity (since there were 0s before logging, let's go ahead and replace them with 0s because the difference between an original 0 and 1 in the data is basically trivial. "
   ]
  },
  {
   "cell_type": "code",
   "execution_count": 68,
   "metadata": {
    "collapsed": true
   },
   "outputs": [],
   "source": [
    "master_frame = master_frame.replace([np.inf, -np.inf], 0)"
   ]
  },
  {
   "cell_type": "code",
   "execution_count": 69,
   "metadata": {
    "collapsed": true
   },
   "outputs": [],
   "source": [
    "# Split into Train and Test\n",
    "np.random.seed(9001)\n",
    "msk = np.random.rand(len(master_frame)) < 0.70\n",
    "\n",
    "data_train = master_frame[msk]\n",
    "data_test = master_frame[~msk]"
   ]
  },
  {
   "cell_type": "code",
   "execution_count": 70,
   "metadata": {},
   "outputs": [
    {
     "data": {
      "text/plain": [
       "1106"
      ]
     },
     "execution_count": 70,
     "metadata": {},
     "output_type": "execute_result"
    }
   ],
   "source": [
    "len(data_train)"
   ]
  },
  {
   "cell_type": "markdown",
   "metadata": {},
   "source": [
    "Let's standardize our predictors."
   ]
  },
  {
   "cell_type": "code",
   "execution_count": 71,
   "metadata": {
    "collapsed": true
   },
   "outputs": [],
   "source": [
    "# Standardize\n",
    "continuous_vars = ['followers','num_songs','av_song_pop','pct_explicit','avg_dur','av_artist_followers', 'pop_pct', 'rap_pct', 'rock_pct', 'hip_hop_pct', 'country_pct','metal_pct','indie_folk_pct','rnb_pct','edm_pct','classical_pct','jazz_pct','popular_artist_pct', 'top_3_artist_av_pop', 'top_artist_pop', 'top_3_song_avg_pop', 'top_song_pop', 'top_3_artist_followers', 'top_artist_followers', 'percent_international', 'diff_song_pop', 'diff_artist_pop']\n",
    "for var in continuous_vars: \n",
    "    data_test[var] = (data_test[var] - data_train[var].mean())/data_train[var].std()\n",
    "    data_train[var] = (data_train[var] - data_train[var].mean())/data_train[var].std()"
   ]
  },
  {
   "cell_type": "code",
   "execution_count": 72,
   "metadata": {
    "scrolled": false
   },
   "outputs": [
    {
     "data": {
      "text/plain": [
       "4.2022970395805613e-16"
      ]
     },
     "execution_count": 72,
     "metadata": {},
     "output_type": "execute_result"
    }
   ],
   "source": [
    "data_train[var].mean()"
   ]
  },
  {
   "cell_type": "code",
   "execution_count": 73,
   "metadata": {
    "collapsed": true
   },
   "outputs": [],
   "source": [
    "data_train.to_csv('train_data.csv')\n",
    "data_test.to_csv('test_data.csv')"
   ]
  },
  {
   "cell_type": "code",
   "execution_count": null,
   "metadata": {
    "collapsed": true
   },
   "outputs": [],
   "source": []
  }
 ],
 "metadata": {
  "anaconda-cloud": {},
  "kernelspec": {
   "display_name": "Python 3",
   "language": "python",
   "name": "python3"
  },
  "language_info": {
   "codemirror_mode": {
    "name": "ipython",
    "version": 3
   },
   "file_extension": ".py",
   "mimetype": "text/x-python",
   "name": "python",
   "nbconvert_exporter": "python",
   "pygments_lexer": "ipython3",
   "version": "3.6.1"
  },
  "latex_envs": {
   "bibliofile": "biblio.bib",
   "cite_by": "apalike",
   "current_citInitial": 1,
   "eqLabelWithNumbers": true,
   "eqNumInitial": 0
  }
 },
 "nbformat": 4,
 "nbformat_minor": 1
}
