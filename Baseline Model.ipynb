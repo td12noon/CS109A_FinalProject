{
 "cells": [
  {
   "cell_type": "code",
   "execution_count": 1,
   "metadata": {
    "collapsed": true
   },
   "outputs": [],
   "source": [
    "import numpy as np\n",
    "import pandas as pd\n",
    "import matplotlib\n",
    "import matplotlib.pyplot as plt\n",
    "import seaborn as sns\n",
    "import statsmodels.api as sm\n",
    "from statsmodels.api import OLS\n",
    "import sklearn.metrics as metrics\n",
    "from sklearn.model_selection import cross_val_score\n",
    "from sklearn.linear_model import LassoCV\n",
    "from sklearn.linear_model import RidgeCV\n",
    "from sklearn.metrics import r2_score\n",
    "import warnings\n",
    "from sklearn.model_selection import train_test_split\n",
    "warnings.filterwarnings('ignore')\n",
    "%matplotlib inline"
   ]
  },
  {
   "cell_type": "code",
   "execution_count": 2,
   "metadata": {
    "collapsed": true
   },
   "outputs": [],
   "source": [
    "# Load in data\n",
    "df = pd.read_csv('total_info.csv', encoding = 'latin-1')\n",
    "\n",
    "# Clean Variables\n",
    "del df['Unnamed: 0']\n",
    "df['artist_popularity'] = pd.to_numeric(df['artist_popularity'], errors = 'coerce')\n",
    "df['artist_followers'] = pd.to_numeric(df['artist_followers'], errors = 'coerce')\n",
    "\n",
    "# Create pop indicator variable array\n",
    "pop_ind = []\n",
    "rap_ind = []\n",
    "rock_ind = []\n",
    "for idx, row in enumerate(df['artist_genres'].values):\n",
    "    if 'pop' in row:\n",
    "        pop_ind.append(1)\n",
    "    else:\n",
    "        pop_ind.append(0)\n",
    "        \n",
    "    if 'rap' in row or 'hip' in row:\n",
    "        rap_ind.append(1)\n",
    "    else:\n",
    "        rap_ind.append(0)\n",
    "        \n",
    "    if 'rock' in row:\n",
    "        rock_ind.append(1)\n",
    "    else:\n",
    "        rock_ind.append(0)\n",
    "        \n",
    "# Append array to dataframe\n",
    "df['pop'] = pop_ind\n",
    "df['rap'] = rap_ind\n",
    "df['rock'] = rock_ind\n",
    "\n",
    "# Artist Popularity 75% is a 75, use for indicator \n",
    "df['artist_popularity'].describe()\n",
    "df['popular_artist_ind'] = (df['artist_popularity'] >= 75)*1"
   ]
  },
  {
   "cell_type": "code",
   "execution_count": 4,
   "metadata": {
    "collapsed": false
   },
   "outputs": [],
   "source": [
    "# Sum Up the 100 tracks of info (or less) for each playlist\n",
    "unique_plists = df['playlist_id'].unique()\n",
    "columns = ['playlist','name','followers','num_songs','av_song_pop','pct_explicit','avg_dur','av_artist_followers', 'pop_pct', 'rap_pct', 'rock_pct', 'popular_artist_pct']\n",
    "eda_prelim = pd.DataFrame(index=range(0,len(unique_plists)), columns=columns)\n",
    "\n",
    "for idx,plist in enumerate(unique_plists):\n",
    "    eda_prelim.loc[idx]['playlist'] = plist\n",
    "    eda_prelim.loc[idx]['name'] = df.loc[df['playlist_id'] == plist]['playlist_name'].iloc[0]\n",
    "    eda_prelim.loc[idx]['followers'] = np.mean(df.loc[df['playlist_id'] == plist]['followers'])\n",
    "    eda_prelim.loc[idx]['num_songs'] = len(df.loc[df['playlist_id'] == plist])\n",
    "    eda_prelim.loc[idx]['av_song_pop'] = np.mean(df.loc[df['playlist_id'] == plist]['popularity'])\n",
    "    eda_prelim.loc[idx]['pct_explicit'] = np.mean(df.loc[df['playlist_id'] == plist]['explicit'])\n",
    "    eda_prelim.loc[idx]['avg_dur'] = np.mean(df.loc[df['playlist_id'] == plist]['duration_ms'])\n",
    "    eda_prelim.loc[idx]['av_artist_followers'] = np.mean(df.loc[df['playlist_id'] == plist]['artist_followers'])\n",
    "    eda_prelim.loc[idx]['pop_pct'] = np.mean(df.loc[df['playlist_id'] == plist]['pop'])\n",
    "    eda_prelim.loc[idx]['rap_pct'] = np.mean(df.loc[df['playlist_id'] == plist]['rap'])\n",
    "    eda_prelim.loc[idx]['rock_pct'] = np.mean(df.loc[df['playlist_id'] == plist]['rock'])\n",
    "    eda_prelim.loc[idx]['avg_num_artists'] = np.mean(df.loc[df['playlist_id'] == plist]['number_of_artists'])\n",
    "    eda_prelim.loc[idx]['popular_artist_pct'] = np.mean(df.loc[df['playlist_id'] == plist]['popular_artist_ind'])"
   ]
  },
  {
   "cell_type": "code",
   "execution_count": 7,
   "metadata": {
    "collapsed": false
   },
   "outputs": [
    {
     "name": "stdout",
     "output_type": "stream",
     "text": [
      "Ideal Ridge Alpha:  10.0\n",
      "Ridge Betas:  [  1.83449050e-02   5.69704745e-02   3.18969571e-01   7.68210157e-07\n",
      "  -6.51925802e-08  -8.46515562e-01  -1.85000675e-01  -7.93473883e-01\n",
      "   2.60954917e-01   1.48101126e-02]\n",
      "Ridge Train R^2:  0.101702950264\n",
      "Ridge Test R^2:  0.0483386774452\n"
     ]
    }
   ],
   "source": [
    "# log followers\n",
    "eda_prelim['log_followers'] = np.log(eda_prelim['followers'].astype(float))\n",
    "eda_prelim['log_artist_follow'] = np.log(eda_prelim['av_artist_followers'].astype(float))\n",
    "eda_prelim = eda_prelim.dropna(0)\n",
    "eda_prelim= eda_prelim.replace([np.inf, -np.inf], 0)\n",
    "\n",
    "#baseline lasso regression \n",
    "\n",
    "#splitting into train and test\n",
    "y_data = eda_prelim['log_followers']\n",
    "x_data = eda_prelim.drop(['followers', 'log_followers', 'name', 'playlist'], axis = 1)\n",
    "\n",
    "ind_train, ind_test = train_test_split(range(eda_prelim.shape[0]), train_size=0.75)\n",
    "\n",
    "#x's\n",
    "x_train = pd.concat([x_data.iloc[ind_train, :]])\n",
    "x_test = pd.concat([x_data.iloc[ind_test, :]])\n",
    "\n",
    "#y's\n",
    "y_train = y_data.iloc[ind_train]\n",
    "y_test = y_data.iloc[ind_test]\n",
    "\n",
    "# Lasso regression and CV\n",
    "ridge_reg = RidgeCV()\n",
    "ridge_reg.fit(x_train, y_train)\n",
    "yhat_train_ridge = ridge_reg.predict(x_train)\n",
    "yhat_test_ridge = ridge_reg.predict(x_test)\n",
    "print(\"Ideal Ridge Alpha: \", ridge_reg.alpha_)\n",
    "print(\"Ridge Betas: \", ridge_reg.coef_)\n",
    "print(\"Ridge Train R^2: \" ,r2_score(y_train, yhat_train_ridge))\n",
    "print(\"Ridge Test R^2: \" ,r2_score(y_test, yhat_test_ridge))"
   ]
  },
  {
   "cell_type": "code",
   "execution_count": null,
   "metadata": {
    "collapsed": true
   },
   "outputs": [],
   "source": []
  }
 ],
 "metadata": {
  "anaconda-cloud": {},
  "kernelspec": {
   "display_name": "Python [Root]",
   "language": "python",
   "name": "Python [Root]"
  },
  "language_info": {
   "codemirror_mode": {
    "name": "ipython",
    "version": 3
   },
   "file_extension": ".py",
   "mimetype": "text/x-python",
   "name": "python",
   "nbconvert_exporter": "python",
   "pygments_lexer": "ipython3",
   "version": "3.5.2"
  }
 },
 "nbformat": 4,
 "nbformat_minor": 2
}
